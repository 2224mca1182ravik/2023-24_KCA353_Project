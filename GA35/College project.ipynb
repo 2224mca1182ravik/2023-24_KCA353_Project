{
 "cells": [
  {
   "cell_type": "code",
   "execution_count": 1,
   "id": "05f666c9",
   "metadata": {},
   "outputs": [],
   "source": [
    "import pytesseract\n",
    "pytesseract.pytesseract.tesseract_cmd=r'C:\\Program Files\\Tesseract-OCR\\tesseract.exe'"
   ]
  },
  {
   "cell_type": "code",
   "execution_count": 5,
   "id": "12848977",
   "metadata": {},
   "outputs": [],
   "source": [
    "import cv2\n",
    "import numpy as np\n",
    "from PIL import Image\n",
    "import xlsxwriter\n",
    "from xlsxwriter import Workbook\n"
   ]
  },
  {
   "cell_type": "code",
   "execution_count": 10,
   "id": "aab60cfc",
   "metadata": {},
   "outputs": [],
   "source": [
    "img=cv2.imread('mam.jpg')\n",
    "img=cv2.resize(img,(500,600))\n",
    "cv2.imshow('sample',img)\n",
    "cv2.waitKey(0)\n",
    "cv2.destroyAllWindows()"
   ]
  },
  {
   "cell_type": "code",
   "execution_count": 9,
   "id": "d376ddfa",
   "metadata": {},
   "outputs": [
    {
     "name": "stdout",
     "output_type": "stream",
     "text": [
      "DR. SANGEETA ARORA\n",
      "ASSOCIATE PROFESSOR\n",
      "MCA\n",
      "\n",
      "4509\n",
      "\n",
      "| t\n",
      "\n",
      "Employee Code\n",
      "\n",
      "x Director\n",
      "F20044509\n",
      "\n",
      "\n"
     ]
    }
   ],
   "source": [
    "text=pytesseract.image_to_string(img)\n",
    "print(text)"
   ]
  },
  {
   "cell_type": "code",
   "execution_count": 8,
   "id": "c868b271",
   "metadata": {},
   "outputs": [],
   "source": [
    "workbook = xlsxwriter.Workbook('ocr_output11.xlsx')\n",
    "worksheet = workbook.add_worksheet()\n",
    "\n",
    "# Split the text into lines and write it to Excel with UTF-8 encoding\n",
    "lines = text.split('\\n')\n",
    "for row, line in enumerate(lines, start=1):\n",
    "    worksheet.write(row-1, 0, line)\n",
    "\n",
    "# Save the Excel file\n",
    "workbook.close()\n"
   ]
  },
  {
   "cell_type": "code",
   "execution_count": null,
   "id": "fb731bee",
   "metadata": {},
   "outputs": [],
   "source": []
  },
  {
   "cell_type": "code",
   "execution_count": null,
   "id": "8a70d012",
   "metadata": {},
   "outputs": [],
   "source": []
  }
 ],
 "metadata": {
  "kernelspec": {
   "display_name": "Python 3 (ipykernel)",
   "language": "python",
   "name": "python3"
  },
  "language_info": {
   "codemirror_mode": {
    "name": "ipython",
    "version": 3
   },
   "file_extension": ".py",
   "mimetype": "text/x-python",
   "name": "python",
   "nbconvert_exporter": "python",
   "pygments_lexer": "ipython3",
   "version": "3.11.5"
  }
 },
 "nbformat": 4,
 "nbformat_minor": 5
}
