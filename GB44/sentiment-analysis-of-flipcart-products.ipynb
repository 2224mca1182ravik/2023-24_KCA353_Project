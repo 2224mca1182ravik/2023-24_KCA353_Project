{
 "cells": [
  {
   "cell_type": "code",
   "execution_count": 1,
   "metadata": {
    "execution": {
     "iopub.execute_input": "2023-07-07T15:04:13.863499Z",
     "iopub.status.busy": "2023-07-07T15:04:13.862589Z",
     "iopub.status.idle": "2023-07-07T15:04:13.870331Z",
     "shell.execute_reply": "2023-07-07T15:04:13.868918Z",
     "shell.execute_reply.started": "2023-07-07T15:04:13.863461Z"
    }
   },
   "outputs": [
    {
     "name": "stdout",
     "output_type": "stream",
     "text": [
      "WARNING:tensorflow:From C:\\Users\\tript\\anaconda3\\lib\\site-packages\\keras\\src\\losses.py:2976: The name tf.losses.sparse_softmax_cross_entropy is deprecated. Please use tf.compat.v1.losses.sparse_softmax_cross_entropy instead.\n",
      "\n"
     ]
    }
   ],
   "source": [
    "import numpy as np\n",
    "import pandas as pd\n",
    "import os\n",
    "import tensorflow as tf\n",
    "from tensorflow.keras.preprocessing.sequence import pad_sequences\n",
    "from tensorflow.keras.preprocessing.text import Tokenizer\n",
    "from tensorflow.keras.models import Sequential"
   ]
  },
  {
   "cell_type": "code",
   "execution_count": 6,
   "metadata": {
    "execution": {
     "iopub.execute_input": "2023-07-07T15:04:17.951598Z",
     "iopub.status.busy": "2023-07-07T15:04:17.951082Z",
     "iopub.status.idle": "2023-07-07T15:04:18.858382Z",
     "shell.execute_reply": "2023-07-07T15:04:18.857005Z",
     "shell.execute_reply.started": "2023-07-07T15:04:17.951543Z"
    }
   },
   "outputs": [],
   "source": [
    "df = pd.read_csv(r\"C:\\Users\\tript\\Desktop\\Project\\Dataset-SA.csv\")"
   ]
  },
  {
   "cell_type": "code",
   "execution_count": 7,
   "metadata": {
    "execution": {
     "iopub.execute_input": "2023-07-07T15:04:22.032859Z",
     "iopub.status.busy": "2023-07-07T15:04:22.032370Z",
     "iopub.status.idle": "2023-07-07T15:04:22.067626Z",
     "shell.execute_reply": "2023-07-07T15:04:22.066756Z",
     "shell.execute_reply.started": "2023-07-07T15:04:22.032803Z"
    }
   },
   "outputs": [
    {
     "data": {
      "text/html": [
       "<div>\n",
       "<style scoped>\n",
       "    .dataframe tbody tr th:only-of-type {\n",
       "        vertical-align: middle;\n",
       "    }\n",
       "\n",
       "    .dataframe tbody tr th {\n",
       "        vertical-align: top;\n",
       "    }\n",
       "\n",
       "    .dataframe thead th {\n",
       "        text-align: right;\n",
       "    }\n",
       "</style>\n",
       "<table border=\"1\" class=\"dataframe\">\n",
       "  <thead>\n",
       "    <tr style=\"text-align: right;\">\n",
       "      <th></th>\n",
       "      <th>product_name</th>\n",
       "      <th>product_price</th>\n",
       "      <th>Rate</th>\n",
       "      <th>Review</th>\n",
       "      <th>Summary</th>\n",
       "      <th>Sentiment</th>\n",
       "    </tr>\n",
       "  </thead>\n",
       "  <tbody>\n",
       "    <tr>\n",
       "      <th>0</th>\n",
       "      <td>Candes 12 L Room/Personal Air Cooler??????(Whi...</td>\n",
       "      <td>3999</td>\n",
       "      <td>5</td>\n",
       "      <td>super!</td>\n",
       "      <td>great cooler excellent air flow and for this p...</td>\n",
       "      <td>positive</td>\n",
       "    </tr>\n",
       "    <tr>\n",
       "      <th>1</th>\n",
       "      <td>Candes 12 L Room/Personal Air Cooler??????(Whi...</td>\n",
       "      <td>3999</td>\n",
       "      <td>5</td>\n",
       "      <td>awesome</td>\n",
       "      <td>best budget 2 fit cooler nice cooling</td>\n",
       "      <td>positive</td>\n",
       "    </tr>\n",
       "    <tr>\n",
       "      <th>2</th>\n",
       "      <td>Candes 12 L Room/Personal Air Cooler??????(Whi...</td>\n",
       "      <td>3999</td>\n",
       "      <td>3</td>\n",
       "      <td>fair</td>\n",
       "      <td>the quality is good but the power of air is de...</td>\n",
       "      <td>positive</td>\n",
       "    </tr>\n",
       "    <tr>\n",
       "      <th>3</th>\n",
       "      <td>Candes 12 L Room/Personal Air Cooler??????(Whi...</td>\n",
       "      <td>3999</td>\n",
       "      <td>1</td>\n",
       "      <td>useless product</td>\n",
       "      <td>very bad product its a only a fan</td>\n",
       "      <td>negative</td>\n",
       "    </tr>\n",
       "    <tr>\n",
       "      <th>4</th>\n",
       "      <td>Candes 12 L Room/Personal Air Cooler??????(Whi...</td>\n",
       "      <td>3999</td>\n",
       "      <td>3</td>\n",
       "      <td>fair</td>\n",
       "      <td>ok ok product</td>\n",
       "      <td>neutral</td>\n",
       "    </tr>\n",
       "  </tbody>\n",
       "</table>\n",
       "</div>"
      ],
      "text/plain": [
       "                                        product_name product_price Rate  \\\n",
       "0  Candes 12 L Room/Personal Air Cooler??????(Whi...          3999    5   \n",
       "1  Candes 12 L Room/Personal Air Cooler??????(Whi...          3999    5   \n",
       "2  Candes 12 L Room/Personal Air Cooler??????(Whi...          3999    3   \n",
       "3  Candes 12 L Room/Personal Air Cooler??????(Whi...          3999    1   \n",
       "4  Candes 12 L Room/Personal Air Cooler??????(Whi...          3999    3   \n",
       "\n",
       "            Review                                            Summary  \\\n",
       "0           super!  great cooler excellent air flow and for this p...   \n",
       "1          awesome              best budget 2 fit cooler nice cooling   \n",
       "2             fair  the quality is good but the power of air is de...   \n",
       "3  useless product                  very bad product its a only a fan   \n",
       "4             fair                                      ok ok product   \n",
       "\n",
       "  Sentiment  \n",
       "0  positive  \n",
       "1  positive  \n",
       "2  positive  \n",
       "3  negative  \n",
       "4   neutral  "
      ]
     },
     "execution_count": 7,
     "metadata": {},
     "output_type": "execute_result"
    }
   ],
   "source": [
    "df.head()"
   ]
  },
  {
   "cell_type": "code",
   "execution_count": 8,
   "metadata": {
    "execution": {
     "iopub.execute_input": "2023-07-07T15:04:27.251378Z",
     "iopub.status.busy": "2023-07-07T15:04:27.250995Z",
     "iopub.status.idle": "2023-07-07T15:04:27.259889Z",
     "shell.execute_reply": "2023-07-07T15:04:27.258542Z",
     "shell.execute_reply.started": "2023-07-07T15:04:27.251348Z"
    }
   },
   "outputs": [
    {
     "data": {
      "text/plain": [
       "(205052, 6)"
      ]
     },
     "execution_count": 8,
     "metadata": {},
     "output_type": "execute_result"
    }
   ],
   "source": [
    "df.shape"
   ]
  },
  {
   "cell_type": "code",
   "execution_count": 9,
   "metadata": {
    "execution": {
     "iopub.execute_input": "2023-07-07T15:04:29.097388Z",
     "iopub.status.busy": "2023-07-07T15:04:29.096956Z",
     "iopub.status.idle": "2023-07-07T15:04:29.531023Z",
     "shell.execute_reply": "2023-07-07T15:04:29.529820Z",
     "shell.execute_reply.started": "2023-07-07T15:04:29.097355Z"
    }
   },
   "outputs": [
    {
     "name": "stdout",
     "output_type": "stream",
     "text": [
      "<class 'pandas.core.frame.DataFrame'>\n",
      "RangeIndex: 205052 entries, 0 to 205051\n",
      "Data columns (total 6 columns):\n",
      " #   Column         Non-Null Count   Dtype \n",
      "---  ------         --------------   ----- \n",
      " 0   product_name   205052 non-null  object\n",
      " 1   product_price  205052 non-null  object\n",
      " 2   Rate           205052 non-null  object\n",
      " 3   Review         180388 non-null  object\n",
      " 4   Summary        205041 non-null  object\n",
      " 5   Sentiment      205052 non-null  object\n",
      "dtypes: object(6)\n",
      "memory usage: 9.4+ MB\n"
     ]
    }
   ],
   "source": [
    "df.info()"
   ]
  },
  {
   "cell_type": "code",
   "execution_count": 10,
   "metadata": {
    "execution": {
     "iopub.execute_input": "2023-07-07T15:04:32.706307Z",
     "iopub.status.busy": "2023-07-07T15:04:32.705908Z",
     "iopub.status.idle": "2023-07-07T15:04:33.111423Z",
     "shell.execute_reply": "2023-07-07T15:04:33.110421Z",
     "shell.execute_reply.started": "2023-07-07T15:04:32.706274Z"
    }
   },
   "outputs": [
    {
     "data": {
      "text/html": [
       "<div>\n",
       "<style scoped>\n",
       "    .dataframe tbody tr th:only-of-type {\n",
       "        vertical-align: middle;\n",
       "    }\n",
       "\n",
       "    .dataframe tbody tr th {\n",
       "        vertical-align: top;\n",
       "    }\n",
       "\n",
       "    .dataframe thead th {\n",
       "        text-align: right;\n",
       "    }\n",
       "</style>\n",
       "<table border=\"1\" class=\"dataframe\">\n",
       "  <thead>\n",
       "    <tr style=\"text-align: right;\">\n",
       "      <th></th>\n",
       "      <th>product_name</th>\n",
       "      <th>product_price</th>\n",
       "      <th>Rate</th>\n",
       "      <th>Review</th>\n",
       "      <th>Summary</th>\n",
       "      <th>Sentiment</th>\n",
       "    </tr>\n",
       "  </thead>\n",
       "  <tbody>\n",
       "    <tr>\n",
       "      <th>count</th>\n",
       "      <td>205052</td>\n",
       "      <td>205052</td>\n",
       "      <td>205052</td>\n",
       "      <td>180388</td>\n",
       "      <td>205041</td>\n",
       "      <td>205052</td>\n",
       "    </tr>\n",
       "    <tr>\n",
       "      <th>unique</th>\n",
       "      <td>958</td>\n",
       "      <td>525</td>\n",
       "      <td>8</td>\n",
       "      <td>1324</td>\n",
       "      <td>92923</td>\n",
       "      <td>3</td>\n",
       "    </tr>\n",
       "    <tr>\n",
       "      <th>top</th>\n",
       "      <td>cello Pack of 18 Opalware Cello Dazzle Lush Fi...</td>\n",
       "      <td>1299</td>\n",
       "      <td>5</td>\n",
       "      <td>wonderful</td>\n",
       "      <td>good</td>\n",
       "      <td>positive</td>\n",
       "    </tr>\n",
       "    <tr>\n",
       "      <th>freq</th>\n",
       "      <td>6005</td>\n",
       "      <td>9150</td>\n",
       "      <td>118765</td>\n",
       "      <td>9016</td>\n",
       "      <td>17430</td>\n",
       "      <td>166581</td>\n",
       "    </tr>\n",
       "  </tbody>\n",
       "</table>\n",
       "</div>"
      ],
      "text/plain": [
       "                                             product_name product_price  \\\n",
       "count                                              205052        205052   \n",
       "unique                                                958           525   \n",
       "top     cello Pack of 18 Opalware Cello Dazzle Lush Fi...          1299   \n",
       "freq                                                 6005          9150   \n",
       "\n",
       "          Rate     Review Summary Sentiment  \n",
       "count   205052     180388  205041    205052  \n",
       "unique       8       1324   92923         3  \n",
       "top          5  wonderful    good  positive  \n",
       "freq    118765       9016   17430    166581  "
      ]
     },
     "execution_count": 10,
     "metadata": {},
     "output_type": "execute_result"
    }
   ],
   "source": [
    "df.describe()"
   ]
  },
  {
   "cell_type": "code",
   "execution_count": 11,
   "metadata": {
    "execution": {
     "iopub.execute_input": "2023-07-07T15:04:37.477732Z",
     "iopub.status.busy": "2023-07-07T15:04:37.476975Z",
     "iopub.status.idle": "2023-07-07T15:04:37.881586Z",
     "shell.execute_reply": "2023-07-07T15:04:37.879822Z",
     "shell.execute_reply.started": "2023-07-07T15:04:37.477682Z"
    }
   },
   "outputs": [
    {
     "name": "stdout",
     "output_type": "stream",
     "text": [
      "Null values in the entire DataFrame:\n",
      "product_name         0\n",
      "product_price        0\n",
      "Rate                 0\n",
      "Review           24664\n",
      "Summary             11\n",
      "Sentiment            0\n",
      "dtype: int64\n"
     ]
    }
   ],
   "source": [
    "null_values = df.isnull().sum()\n",
    "\n",
    "print(\"Null values in the entire DataFrame:\")\n",
    "print(null_values)"
   ]
  },
  {
   "cell_type": "code",
   "execution_count": 12,
   "metadata": {
    "execution": {
     "iopub.execute_input": "2023-07-07T15:05:17.522374Z",
     "iopub.status.busy": "2023-07-07T15:05:17.521949Z",
     "iopub.status.idle": "2023-07-07T15:05:17.945243Z",
     "shell.execute_reply": "2023-07-07T15:05:17.943834Z",
     "shell.execute_reply.started": "2023-07-07T15:05:17.522343Z"
    }
   },
   "outputs": [],
   "source": [
    "df.dropna(inplace=True)"
   ]
  },
  {
   "cell_type": "code",
   "execution_count": 13,
   "metadata": {
    "execution": {
     "iopub.execute_input": "2023-07-07T15:05:28.225879Z",
     "iopub.status.busy": "2023-07-07T15:05:28.225399Z",
     "iopub.status.idle": "2023-07-07T15:05:28.578034Z",
     "shell.execute_reply": "2023-07-07T15:05:28.576712Z",
     "shell.execute_reply.started": "2023-07-07T15:05:28.225796Z"
    }
   },
   "outputs": [
    {
     "data": {
      "text/plain": [
       "product_name     0\n",
       "product_price    0\n",
       "Rate             0\n",
       "Review           0\n",
       "Summary          0\n",
       "Sentiment        0\n",
       "dtype: int64"
      ]
     },
     "execution_count": 13,
     "metadata": {},
     "output_type": "execute_result"
    }
   ],
   "source": [
    "null_values = df.isnull().sum()\n",
    "null_values"
   ]
  },
  {
   "cell_type": "code",
   "execution_count": 14,
   "metadata": {
    "execution": {
     "iopub.execute_input": "2023-07-07T15:07:56.577237Z",
     "iopub.status.busy": "2023-07-07T15:07:56.576783Z",
     "iopub.status.idle": "2023-07-07T15:07:56.783483Z",
     "shell.execute_reply": "2023-07-07T15:07:56.782249Z",
     "shell.execute_reply.started": "2023-07-07T15:07:56.577206Z"
    }
   },
   "outputs": [],
   "source": [
    "df.drop_duplicates(inplace=True)"
   ]
  },
  {
   "cell_type": "code",
   "execution_count": 15,
   "metadata": {
    "execution": {
     "iopub.execute_input": "2023-07-07T15:11:06.997160Z",
     "iopub.status.busy": "2023-07-07T15:11:06.996757Z",
     "iopub.status.idle": "2023-07-07T15:11:07.625425Z",
     "shell.execute_reply": "2023-07-07T15:11:07.624218Z",
     "shell.execute_reply.started": "2023-07-07T15:11:06.997131Z"
    }
   },
   "outputs": [],
   "source": [
    "import string\n",
    "\n",
    "df['Review'] = df['Review'].apply(lambda x: x.lower())\n",
    "df['Review'] = df['Review'].apply(lambda x: x.translate(str.maketrans('', '', string.punctuation)))"
   ]
  },
  {
   "cell_type": "code",
   "execution_count": 16,
   "metadata": {
    "execution": {
     "iopub.execute_input": "2023-07-07T15:11:35.434155Z",
     "iopub.status.busy": "2023-07-07T15:11:35.433743Z",
     "iopub.status.idle": "2023-07-07T15:11:35.447175Z",
     "shell.execute_reply": "2023-07-07T15:11:35.445821Z",
     "shell.execute_reply.started": "2023-07-07T15:11:35.434127Z"
    }
   },
   "outputs": [
    {
     "data": {
      "text/plain": [
       "0                   super\n",
       "1                 awesome\n",
       "2                    fair\n",
       "3         useless product\n",
       "4                    fair\n",
       "               ...       \n",
       "205045           terrific\n",
       "205046     classy product\n",
       "205049               nice\n",
       "205050           just wow\n",
       "205051      valueformoney\n",
       "Name: Review, Length: 154467, dtype: object"
      ]
     },
     "execution_count": 16,
     "metadata": {},
     "output_type": "execute_result"
    }
   ],
   "source": [
    "df['Review']"
   ]
  },
  {
   "cell_type": "code",
   "execution_count": 17,
   "metadata": {
    "execution": {
     "iopub.execute_input": "2023-07-07T15:18:26.222500Z",
     "iopub.status.busy": "2023-07-07T15:18:26.222093Z",
     "iopub.status.idle": "2023-07-07T15:18:30.886699Z",
     "shell.execute_reply": "2023-07-07T15:18:30.885583Z",
     "shell.execute_reply.started": "2023-07-07T15:18:26.222470Z"
    }
   },
   "outputs": [
    {
     "data": {
      "image/png": "[encoded data removed]",
      "text/plain": [
       "<Figure size 640x480 with 1 Axes>"
      ]
     },
     "metadata": {},
     "output_type": "display_data"
    }
   ],
   "source": [
    "import matplotlib.pyplot as plt\n",
    "import seaborn as sns\n",
    "\n",
    "# Explore the distribution of numerical variables\n",
    "sns.histplot(df['product_price'])\n",
    "plt.title('Distribution of Product Price')\n",
    "plt.show()"
   ]
  },
  {
   "cell_type": "code",
   "execution_count": 18,
   "metadata": {
    "execution": {
     "iopub.execute_input": "2023-07-07T15:21:21.103126Z",
     "iopub.status.busy": "2023-07-07T15:21:21.102495Z",
     "iopub.status.idle": "2023-07-07T15:21:21.134952Z",
     "shell.execute_reply": "2023-07-07T15:21:21.133953Z",
     "shell.execute_reply.started": "2023-07-07T15:21:21.103083Z"
    }
   },
   "outputs": [
    {
     "name": "stdout",
     "output_type": "stream",
     "text": [
      "positive    122808\n",
      "negative     23353\n",
      "neutral       8306\n",
      "Name: Sentiment, dtype: int64\n"
     ]
    }
   ],
   "source": [
    "# Count the number of reviews by sentiment\n",
    "sentiment_counts = df['Sentiment'].value_counts()\n",
    "print(sentiment_counts)"
   ]
  },
  {
   "cell_type": "code",
   "execution_count": 19,
   "metadata": {
    "execution": {
     "iopub.execute_input": "2023-07-07T15:21:37.050809Z",
     "iopub.status.busy": "2023-07-07T15:21:37.050396Z",
     "iopub.status.idle": "2023-07-07T15:21:37.498175Z",
     "shell.execute_reply": "2023-07-07T15:21:37.496977Z",
     "shell.execute_reply.started": "2023-07-07T15:21:37.050778Z"
    }
   },
   "outputs": [
    {
     "data": {
      "image/png": "[encoded data removed]",
      "text/plain": [
       "<Figure size 640x480 with 1 Axes>"
      ]
     },
     "metadata": {},
     "output_type": "display_data"
    }
   ],
   "source": [
    "# Visualize the distribution of sentiment\n",
    "sns.countplot(data=df, x='Sentiment')\n",
    "plt.title('Sentiment Distribution')\n",
    "plt.show()"
   ]
  },
  {
   "cell_type": "code",
   "execution_count": 20,
   "metadata": {
    "execution": {
     "iopub.execute_input": "2023-07-07T16:00:40.650736Z",
     "iopub.status.busy": "2023-07-07T16:00:40.650310Z",
     "iopub.status.idle": "2023-07-07T16:00:41.699816Z",
     "shell.execute_reply": "2023-07-07T16:00:41.698750Z",
     "shell.execute_reply.started": "2023-07-07T16:00:40.650697Z"
    }
   },
   "outputs": [],
   "source": [
    "from sklearn.feature_extraction.text import CountVectorizer\n",
    "\n",
    "# Assuming 'df' is your DataFrame containing text data\n",
    "text_data = df['Review']\n",
    "vectorizer = CountVectorizer()\n",
    "feature_matrix = vectorizer.fit_transform(text_data)\n",
    "feature_names = vectorizer.get_feature_names_out()"
   ]
  },
  {
   "cell_type": "code",
   "execution_count": 21,
   "metadata": {
    "execution": {
     "iopub.execute_input": "2023-07-07T16:01:09.541996Z",
     "iopub.status.busy": "2023-07-07T16:01:09.541535Z",
     "iopub.status.idle": "2023-07-07T16:01:09.552236Z",
     "shell.execute_reply": "2023-07-07T16:01:09.550598Z",
     "shell.execute_reply.started": "2023-07-07T16:01:09.541964Z"
    }
   },
   "outputs": [
    {
     "data": {
      "text/plain": [
       "array(['10', '100', '1010', ..., 'yr', 'zero', 'zip'], dtype=object)"
      ]
     },
     "execution_count": 21,
     "metadata": {},
     "output_type": "execute_result"
    }
   ],
   "source": [
    "feature_names"
   ]
  },
  {
   "cell_type": "code",
   "execution_count": 36,
   "metadata": {
    "execution": {
     "iopub.execute_input": "2023-07-07T16:02:12.069927Z",
     "iopub.status.busy": "2023-07-07T16:02:12.069516Z",
     "iopub.status.idle": "2023-07-07T16:02:13.120414Z",
     "shell.execute_reply": "2023-07-07T16:02:13.119101Z",
     "shell.execute_reply.started": "2023-07-07T16:02:12.069899Z"
    }
   },
   "outputs": [],
   "source": [
    "data_features = vectorizer.transform(df.Review)"
   ]
  },
  {
   "cell_type": "code",
   "execution_count": 37,
   "metadata": {
    "execution": {
     "iopub.execute_input": "2023-07-07T16:02:24.160725Z",
     "iopub.status.busy": "2023-07-07T16:02:24.160330Z",
     "iopub.status.idle": "2023-07-07T16:02:24.169601Z",
     "shell.execute_reply": "2023-07-07T16:02:24.167995Z",
     "shell.execute_reply.started": "2023-07-07T16:02:24.160697Z"
    }
   },
   "outputs": [
    {
     "data": {
      "text/plain": [
       "<154467x1325 sparse matrix of type '<class 'numpy.int64'>'\n",
       "\twith 293410 stored elements in Compressed Sparse Row format>"
      ]
     },
     "execution_count": 37,
     "metadata": {},
     "output_type": "execute_result"
    }
   ],
   "source": [
    "data_features"
   ]
  },
  {
   "cell_type": "code",
   "execution_count": 38,
   "metadata": {
    "execution": {
     "iopub.execute_input": "2023-07-07T16:02:39.624938Z",
     "iopub.status.busy": "2023-07-07T16:02:39.624476Z",
     "iopub.status.idle": "2023-07-07T16:02:39.634207Z",
     "shell.execute_reply": "2023-07-07T16:02:39.632672Z",
     "shell.execute_reply.started": "2023-07-07T16:02:39.624906Z"
    }
   },
   "outputs": [
    {
     "data": {
      "text/plain": [
       "(154467, 1325)"
      ]
     },
     "execution_count": 38,
     "metadata": {},
     "output_type": "execute_result"
    }
   ],
   "source": [
    "data_features.shape"
   ]
  },
  {
   "cell_type": "code",
   "execution_count": 40,
   "metadata": {
    "execution": {
     "iopub.execute_input": "2023-07-07T16:03:18.293113Z",
     "iopub.status.busy": "2023-07-07T16:03:18.292604Z",
     "iopub.status.idle": "2023-07-07T16:03:18.301737Z",
     "shell.execute_reply": "2023-07-07T16:03:18.300263Z",
     "shell.execute_reply.started": "2023-07-07T16:03:18.293078Z"
    }
   },
   "outputs": [
    {
     "data": {
      "text/plain": [
       "293410"
      ]
     },
     "execution_count": 40,
     "metadata": {},
     "output_type": "execute_result"
    }
   ],
   "source": [
    "data_features.getnnz()"
   ]
  },
  {
   "cell_type": "code",
   "execution_count": 41,
   "metadata": {
    "execution": {
     "iopub.execute_input": "2023-07-07T16:04:20.070142Z",
     "iopub.status.busy": "2023-07-07T16:04:20.069673Z",
     "iopub.status.idle": "2023-07-07T16:04:20.078937Z",
     "shell.execute_reply": "2023-07-07T16:04:20.076126Z",
     "shell.execute_reply.started": "2023-07-07T16:04:20.070109Z"
    }
   },
   "outputs": [
    {
     "name": "stdout",
     "output_type": "stream",
     "text": [
      "Density of the matrix:  0.14335845807451578\n"
     ]
    }
   ],
   "source": [
    "density = (data_features.getnnz() * 100) / (data_features.shape[0] * data_features.shape[1])\n",
    "print(\"Density of the matrix: \", density)\n"
   ]
  },
  {
   "cell_type": "code",
   "execution_count": 42,
   "metadata": {
    "execution": {
     "iopub.execute_input": "2023-07-07T16:10:33.200495Z",
     "iopub.status.busy": "2023-07-07T16:10:33.199963Z",
     "iopub.status.idle": "2023-07-07T16:10:33.244341Z",
     "shell.execute_reply": "2023-07-07T16:10:33.242770Z",
     "shell.execute_reply.started": "2023-07-07T16:10:33.200456Z"
    }
   },
   "outputs": [
    {
     "data": {
      "text/plain": [
       "wonderful                                         7623\n",
       "not specified                                     5714\n",
       "great product                                     4816\n",
       "brilliant                                         4807\n",
       "awesome                                           4797\n",
       "                                                  ... \n",
       "no 1 worst product                                   1\n",
       "50  50                                               1\n",
       "really bad product worst service from flipkart       1\n",
       "nice mixer  nice price                               1\n",
       "product looking very nice  strong quality            1\n",
       "Name: Review, Length: 1263, dtype: int64"
      ]
     },
     "execution_count": 42,
     "metadata": {},
     "output_type": "execute_result"
    }
   ],
   "source": [
    "feature_counts = df['Review'].value_counts()\n",
    "feature_counts"
   ]
  },
  {
   "cell_type": "code",
   "execution_count": 43,
   "metadata": {
    "execution": {
     "iopub.execute_input": "2023-07-07T16:16:35.410960Z",
     "iopub.status.busy": "2023-07-07T16:16:35.409593Z",
     "iopub.status.idle": "2023-07-07T16:16:36.545226Z",
     "shell.execute_reply": "2023-07-07T16:16:36.544029Z",
     "shell.execute_reply.started": "2023-07-07T16:16:35.410907Z"
    }
   },
   "outputs": [],
   "source": [
    "features = vectorizer.get_feature_names_out() \n",
    "# Replace with the variable that holds feature names\n",
    "features_counts = np.sum(data_features.toarray(), axis=0)\n",
    "features_counts_df = pd.DataFrame({'features': features, 'counts': features_counts})"
   ]
  },
  {
   "cell_type": "code",
   "execution_count": 44,
   "metadata": {
    "execution": {
     "iopub.execute_input": "2023-07-07T16:17:56.779849Z",
     "iopub.status.busy": "2023-07-07T16:17:56.779409Z",
     "iopub.status.idle": "2023-07-07T16:17:57.143859Z",
     "shell.execute_reply": "2023-07-07T16:17:57.142549Z",
     "shell.execute_reply.started": "2023-07-07T16:17:56.779809Z"
    }
   },
   "outputs": [
    {
     "data": {
      "image/png": "[encoded data removed]",
      "text/plain": [
       "<Figure size 1200x500 with 1 Axes>"
      ]
     },
     "metadata": {},
     "output_type": "display_data"
    }
   ],
   "source": [
    "import matplotlib.pyplot as plt\n",
    "\n",
    "plt.figure(figsize=(12, 5))\n",
    "plt.hist(features_counts_df['counts'], bins=50, range=(0, 5000))\n",
    "plt.xlabel('Frequency of Words')\n",
    "plt.ylabel('Density')\n",
    "plt.show()"
   ]
  },
  {
   "cell_type": "code",
   "execution_count": 45,
   "metadata": {
    "execution": {
     "iopub.execute_input": "2023-07-07T16:19:37.891529Z",
     "iopub.status.busy": "2023-07-07T16:19:37.890984Z",
     "iopub.status.idle": "2023-07-07T16:19:37.900469Z",
     "shell.execute_reply": "2023-07-07T16:19:37.899440Z",
     "shell.execute_reply.started": "2023-07-07T16:19:37.891493Z"
    }
   },
   "outputs": [
    {
     "data": {
      "text/plain": [
       "763"
      ]
     },
     "execution_count": 45,
     "metadata": {},
     "output_type": "execute_result"
    }
   ],
   "source": [
    "count_of_single_occurrences = len(features_counts_df[features_counts_df['counts'] == 1])\n",
    "count_of_single_occurrences"
   ]
  },
  {
   "cell_type": "code",
   "execution_count": 46,
   "metadata": {
    "execution": {
     "iopub.execute_input": "2023-07-07T16:23:11.586667Z",
     "iopub.status.busy": "2023-07-07T16:23:11.586036Z",
     "iopub.status.idle": "2023-07-07T16:23:13.668942Z",
     "shell.execute_reply": "2023-07-07T16:23:13.667513Z",
     "shell.execute_reply.started": "2023-07-07T16:23:11.586627Z"
    }
   },
   "outputs": [],
   "source": [
    "count_vectorizer = CountVectorizer(max_features=10000)\n",
    "feature_vector = count_vectorizer.fit_transform(df['Review'])\n",
    "features = count_vectorizer.get_feature_names_out()\n",
    "data_features = feature_vector.toarray()\n",
    "features_counts = np.sum(data_features, axis=0)\n",
    "feature_counts = pd.DataFrame({'features': features, 'counts': features_counts})\n"
   ]
  },
  {
   "cell_type": "code",
   "execution_count": 47,
   "metadata": {
    "execution": {
     "iopub.execute_input": "2023-07-07T16:24:14.241724Z",
     "iopub.status.busy": "2023-07-07T16:24:14.241167Z",
     "iopub.status.idle": "2023-07-07T16:24:14.250054Z",
     "shell.execute_reply": "2023-07-07T16:24:14.248685Z",
     "shell.execute_reply.started": "2023-07-07T16:24:14.241685Z"
    }
   },
   "outputs": [],
   "source": [
    "top_features_counts = feature_counts.sort_values('counts', ascending=False).head(15)"
   ]
  },
  {
   "cell_type": "code",
   "execution_count": 48,
   "metadata": {
    "execution": {
     "iopub.execute_input": "2023-07-07T16:24:45.432382Z",
     "iopub.status.busy": "2023-07-07T16:24:45.431905Z",
     "iopub.status.idle": "2023-07-07T16:24:45.446680Z",
     "shell.execute_reply": "2023-07-07T16:24:45.445037Z",
     "shell.execute_reply.started": "2023-07-07T16:24:45.432348Z"
    }
   },
   "outputs": [
    {
     "data": {
      "text/html": [
       "<div>\n",
       "<style scoped>\n",
       "    .dataframe tbody tr th:only-of-type {\n",
       "        vertical-align: middle;\n",
       "    }\n",
       "\n",
       "    .dataframe tbody tr th {\n",
       "        vertical-align: top;\n",
       "    }\n",
       "\n",
       "    .dataframe thead th {\n",
       "        text-align: right;\n",
       "    }\n",
       "</style>\n",
       "<table border=\"1\" class=\"dataframe\">\n",
       "  <thead>\n",
       "    <tr style=\"text-align: right;\">\n",
       "      <th></th>\n",
       "      <th>features</th>\n",
       "      <th>counts</th>\n",
       "    </tr>\n",
       "  </thead>\n",
       "  <tbody>\n",
       "    <tr>\n",
       "      <th>930</th>\n",
       "      <td>product</td>\n",
       "      <td>25782</td>\n",
       "    </tr>\n",
       "    <tr>\n",
       "      <th>521</th>\n",
       "      <td>good</td>\n",
       "      <td>14842</td>\n",
       "    </tr>\n",
       "    <tr>\n",
       "      <th>1172</th>\n",
       "      <td>the</td>\n",
       "      <td>9591</td>\n",
       "    </tr>\n",
       "    <tr>\n",
       "      <th>115</th>\n",
       "      <td>awesome</td>\n",
       "      <td>9558</td>\n",
       "    </tr>\n",
       "    <tr>\n",
       "      <th>943</th>\n",
       "      <td>purchase</td>\n",
       "      <td>9310</td>\n",
       "    </tr>\n",
       "    <tr>\n",
       "      <th>1166</th>\n",
       "      <td>terrific</td>\n",
       "      <td>9260</td>\n",
       "    </tr>\n",
       "    <tr>\n",
       "      <th>819</th>\n",
       "      <td>not</td>\n",
       "      <td>8867</td>\n",
       "    </tr>\n",
       "    <tr>\n",
       "      <th>810</th>\n",
       "      <td>nice</td>\n",
       "      <td>7915</td>\n",
       "    </tr>\n",
       "    <tr>\n",
       "      <th>1304</th>\n",
       "      <td>worth</td>\n",
       "      <td>7651</td>\n",
       "    </tr>\n",
       "    <tr>\n",
       "      <th>1293</th>\n",
       "      <td>wonderful</td>\n",
       "      <td>7638</td>\n",
       "    </tr>\n",
       "    <tr>\n",
       "      <th>658</th>\n",
       "      <td>just</td>\n",
       "      <td>6601</td>\n",
       "    </tr>\n",
       "    <tr>\n",
       "      <th>971</th>\n",
       "      <td>recommended</td>\n",
       "      <td>5775</td>\n",
       "    </tr>\n",
       "    <tr>\n",
       "      <th>1106</th>\n",
       "      <td>specified</td>\n",
       "      <td>5714</td>\n",
       "    </tr>\n",
       "    <tr>\n",
       "      <th>777</th>\n",
       "      <td>money</td>\n",
       "      <td>5259</td>\n",
       "    </tr>\n",
       "    <tr>\n",
       "      <th>529</th>\n",
       "      <td>great</td>\n",
       "      <td>4896</td>\n",
       "    </tr>\n",
       "  </tbody>\n",
       "</table>\n",
       "</div>"
      ],
      "text/plain": [
       "         features  counts\n",
       "930       product   25782\n",
       "521          good   14842\n",
       "1172          the    9591\n",
       "115       awesome    9558\n",
       "943      purchase    9310\n",
       "1166     terrific    9260\n",
       "819           not    8867\n",
       "810          nice    7915\n",
       "1304        worth    7651\n",
       "1293    wonderful    7638\n",
       "658          just    6601\n",
       "971   recommended    5775\n",
       "1106    specified    5714\n",
       "777         money    5259\n",
       "529         great    4896"
      ]
     },
     "execution_count": 48,
     "metadata": {},
     "output_type": "execute_result"
    }
   ],
   "source": [
    "top_features_counts"
   ]
  },
  {
   "cell_type": "code",
   "execution_count": 49,
   "metadata": {
    "execution": {
     "iopub.execute_input": "2023-07-07T16:27:12.201783Z",
     "iopub.status.busy": "2023-07-07T16:27:12.201317Z",
     "iopub.status.idle": "2023-07-07T16:27:13.138518Z",
     "shell.execute_reply": "2023-07-07T16:27:13.137185Z",
     "shell.execute_reply.started": "2023-07-07T16:27:12.201751Z"
    }
   },
   "outputs": [
    {
     "name": "stderr",
     "output_type": "stream",
     "text": [
      "[nltk_data] Downloading package stopwords to\n",
      "[nltk_data]     C:\\Users\\tript\\AppData\\Roaming\\nltk_data...\n",
      "[nltk_data]   Package stopwords is already up-to-date!\n"
     ]
    }
   ],
   "source": [
    "import nltk\n",
    "from nltk.corpus import stopwords\n",
    "\n",
    "nltk.download('stopwords')\n",
    "english_stop_words = stopwords.words('english')\n"
   ]
  },
  {
   "cell_type": "code",
   "execution_count": 50,
   "metadata": {
    "execution": {
     "iopub.execute_input": "2023-07-07T16:27:37.887554Z",
     "iopub.status.busy": "2023-07-07T16:27:37.887090Z",
     "iopub.status.idle": "2023-07-07T16:27:37.896892Z",
     "shell.execute_reply": "2023-07-07T16:27:37.895999Z",
     "shell.execute_reply.started": "2023-07-07T16:27:37.887521Z"
    }
   },
   "outputs": [
    {
     "data": {
      "text/plain": [
       "0                 super\n",
       "1               awesome\n",
       "2                  fair\n",
       "3       useless product\n",
       "4                  fair\n",
       "5               awesome\n",
       "6    highly recommended\n",
       "7                  nice\n",
       "8        unsatisfactory\n",
       "9       worth the money\n",
       "Name: Review, dtype: object"
      ]
     },
     "execution_count": 50,
     "metadata": {},
     "output_type": "execute_result"
    }
   ],
   "source": [
    "df['Review'][0:10]"
   ]
  },
  {
   "cell_type": "code",
   "execution_count": 51,
   "metadata": {
    "execution": {
     "iopub.execute_input": "2023-07-07T16:30:47.170644Z",
     "iopub.status.busy": "2023-07-07T16:30:47.170162Z",
     "iopub.status.idle": "2023-07-07T16:34:35.091102Z",
     "shell.execute_reply": "2023-07-07T16:34:35.089836Z",
     "shell.execute_reply.started": "2023-07-07T16:30:47.170610Z"
    }
   },
   "outputs": [
    {
     "name": "stdout",
     "output_type": "stream",
     "text": [
      "Accuracy:  0.9011458535637988\n",
      "Classification Report:\n",
      "               precision    recall  f1-score   support\n",
      "\n",
      "    negative       0.84      0.78      0.81      4734\n",
      "     neutral       0.00      0.00      0.00      1679\n",
      "    positive       0.91      0.99      0.95     24481\n",
      "\n",
      "    accuracy                           0.90     30894\n",
      "   macro avg       0.58      0.59      0.59     30894\n",
      "weighted avg       0.85      0.90      0.87     30894\n",
      "\n"
     ]
    }
   ],
   "source": [
    "from sklearn.model_selection import train_test_split\n",
    "from sklearn.svm import SVC\n",
    "from sklearn.metrics import accuracy_score, classification_report\n",
    "\n",
    "# Split the data into training and testing sets\n",
    "X_train, X_test, y_train, y_test = train_test_split(df['Review'], df['Sentiment'], test_size=0.2, random_state=42)\n",
    "\n",
    "# Vectorize the text data\n",
    "vectorizer = CountVectorizer()\n",
    "X_train_vectorized = vectorizer.fit_transform(X_train)\n",
    "X_test_vectorized = vectorizer.transform(X_test)\n",
    "\n",
    "# Train a classification model\n",
    "model = SVC()\n",
    "model.fit(X_train_vectorized, y_train)\n",
    "\n",
    "# Make predictions on the test set\n",
    "y_pred = model.predict(X_test_vectorized)\n",
    "\n",
    "# Evaluate the model\n",
    "accuracy = accuracy_score(y_test, y_pred)\n",
    "report = classification_report(y_test, y_pred)\n",
    "\n",
    "# Print the evaluation metrics\n",
    "print(\"Accuracy: \", accuracy)\n",
    "print(\"Classification Report:\\n\", report)\n"
   ]
  },
  {
   "cell_type": "markdown",
   "metadata": {},
   "source": [
    "Accuracy: 0.9011\n",
    "Precision: The precision for the negative sentiment is 0.84, for the neutral sentiment is 0.0, and for the positive sentiment is 0.91.\n",
    "Recall: The recall for the negative sentiment is 0.78, for the neutral sentiment is 0.0, and for the positive sentiment is 0.99.\n",
    "F1-Score: The F1-score for the negative sentiment is 0.81, for the neutral sentiment is 0.0, and for the positive sentiment is 0.95."
   ]
  },
  {
   "cell_type": "code",
   "execution_count": 52,
   "metadata": {
    "execution": {
     "iopub.execute_input": "2023-07-07T16:39:20.566942Z",
     "iopub.status.busy": "2023-07-07T16:39:20.566487Z",
     "iopub.status.idle": "2023-07-07T16:39:21.125200Z",
     "shell.execute_reply": "2023-07-07T16:39:21.123873Z",
     "shell.execute_reply.started": "2023-07-07T16:39:20.566911Z"
    }
   },
   "outputs": [
    {
     "data": {
      "image/png": "[encoded data removed]",
      "text/plain": [
       "<Figure size 800x600 with 2 Axes>"
      ]
     },
     "metadata": {},
     "output_type": "display_data"
    }
   ],
   "source": [
    "import seaborn as sns\n",
    "from sklearn.metrics import confusion_matrix\n",
    "\n",
    "# Calculate the confusion matrix\n",
    "cm = confusion_matrix(y_test, y_pred)\n",
    "\n",
    "# Create a heatmap\n",
    "plt.figure(figsize=(8, 6))\n",
    "sns.heatmap(cm, annot=True, cmap='Blues', fmt='d')\n",
    "plt.title('Confusion Matrix')\n",
    "plt.xlabel('Predicted Labels')\n",
    "plt.ylabel('True Labels')\n",
    "plt.show()\n"
   ]
  },
  {
   "cell_type": "code",
   "execution_count": 53,
   "metadata": {
    "execution": {
     "iopub.execute_input": "2023-07-07T16:44:17.870681Z",
     "iopub.status.busy": "2023-07-07T16:44:17.870189Z",
     "iopub.status.idle": "2023-07-07T16:44:41.070171Z",
     "shell.execute_reply": "2023-07-07T16:44:41.068897Z",
     "shell.execute_reply.started": "2023-07-07T16:44:17.870648Z"
    }
   },
   "outputs": [
    {
     "name": "stdout",
     "output_type": "stream",
     "text": [
      "Accuracy:  0.9013076972874992\n",
      "Classification Report:\n",
      "               precision    recall  f1-score   support\n",
      "\n",
      "    negative       0.84      0.78      0.81      4734\n",
      "     neutral       0.67      0.00      0.00      1679\n",
      "    positive       0.91      0.99      0.95     24481\n",
      "\n",
      "    accuracy                           0.90     30894\n",
      "   macro avg       0.81      0.59      0.59     30894\n",
      "weighted avg       0.89      0.90      0.87     30894\n",
      "\n"
     ]
    }
   ],
   "source": [
    "from sklearn.ensemble import RandomForestClassifier\n",
    "\n",
    "# Split the data into training and testing sets\n",
    "X_train, X_test, y_train, y_test = train_test_split(df['Review'], df['Sentiment'], test_size=0.2, random_state=42)\n",
    "\n",
    "# Vectorize the text data\n",
    "vectorizer = CountVectorizer()\n",
    "X_train_vectorized = vectorizer.fit_transform(X_train)\n",
    "X_test_vectorized = vectorizer.transform(X_test)\n",
    "\n",
    "# Train a classification model (Random Forest)\n",
    "model = RandomForestClassifier()\n",
    "model.fit(X_train_vectorized, y_train)\n",
    "\n",
    "# Make predictions on the test set\n",
    "y_pred = model.predict(X_test_vectorized)\n",
    "\n",
    "# Evaluate the model\n",
    "accuracy = accuracy_score(y_test, y_pred)\n",
    "report = classification_report(y_test, y_pred)\n",
    "\n",
    "# Print the evaluation metrics\n",
    "print(\"Accuracy: \", accuracy)\n",
    "print(\"Classification Report:\\n\", report)\n"
   ]
  },
  {
   "cell_type": "markdown",
   "metadata": {},
   "source": [
    "Accuracy: 0.9012\n",
    "Precision: The precision for the negative sentiment is 0.84, for the neutral sentiment is 0.0, and for the positive sentiment is 0.91.\n",
    "Recall: The recall for the negative sentiment is 0.78, for the neutral sentiment is 0.0, and for the positive sentiment is 0.99.\n",
    "F1-Score: The F1-score for the negative sentiment is 0.81, for the neutral sentiment is 0.0, and for the positive sentiment is 0.95."
   ]
  },
  {
   "cell_type": "code",
   "execution_count": 54,
   "metadata": {
    "execution": {
     "iopub.execute_input": "2023-07-07T16:47:23.559166Z",
     "iopub.status.busy": "2023-07-07T16:47:23.558739Z",
     "iopub.status.idle": "2023-07-07T16:47:29.980676Z",
     "shell.execute_reply": "2023-07-07T16:47:29.979254Z",
     "shell.execute_reply.started": "2023-07-07T16:47:23.559135Z"
    }
   },
   "outputs": [
    {
     "name": "stderr",
     "output_type": "stream",
     "text": [
      "C:\\Users\\tript\\anaconda3\\lib\\site-packages\\sklearn\\linear_model\\_logistic.py:458: ConvergenceWarning: lbfgs failed to converge (status=1):\n",
      "STOP: TOTAL NO. of ITERATIONS REACHED LIMIT.\n",
      "\n",
      "Increase the number of iterations (max_iter) or scale the data as shown in:\n",
      "    https://scikit-learn.org/stable/modules/preprocessing.html\n",
      "Please also refer to the documentation for alternative solver options:\n",
      "    https://scikit-learn.org/stable/modules/linear_model.html#logistic-regression\n",
      "  n_iter_i = _check_optimize_result(\n"
     ]
    },
    {
     "name": "stdout",
     "output_type": "stream",
     "text": [
      "Accuracy:  0.9012105910532789\n",
      "Classification Report:\n",
      "               precision    recall  f1-score   support\n",
      "\n",
      "    negative       0.84      0.78      0.81      4734\n",
      "     neutral       0.67      0.00      0.00      1679\n",
      "    positive       0.91      0.99      0.95     24481\n",
      "\n",
      "    accuracy                           0.90     30894\n",
      "   macro avg       0.81      0.59      0.59     30894\n",
      "weighted avg       0.89      0.90      0.87     30894\n",
      "\n"
     ]
    }
   ],
   "source": [
    "from sklearn.linear_model import LogisticRegression\n",
    "\n",
    "# Split the data into training and testing sets\n",
    "X_train, X_test, y_train, y_test = train_test_split(df['Review'], df['Sentiment'], test_size=0.2, random_state=42)\n",
    "\n",
    "# Vectorize the text data\n",
    "vectorizer = CountVectorizer()\n",
    "X_train_vectorized = vectorizer.fit_transform(X_train)\n",
    "X_test_vectorized = vectorizer.transform(X_test)\n",
    "\n",
    "# Train a classification model (Logistic Regression)\n",
    "model = LogisticRegression()\n",
    "model.fit(X_train_vectorized, y_train)\n",
    "\n",
    "# Make predictions on the test set\n",
    "y_pred = model.predict(X_test_vectorized)\n",
    "\n",
    "# Evaluate the model\n",
    "accuracy = accuracy_score(y_test, y_pred)\n",
    "report = classification_report(y_test, y_pred)\n",
    "\n",
    "# Print the evaluation metrics\n",
    "print(\"Accuracy: \", accuracy)\n",
    "print(\"Classification Report:\\n\", report)\n"
   ]
  },
  {
   "cell_type": "markdown",
   "metadata": {},
   "source": [
    "Accuracy: 0.9012\n",
    "Precision: The precision for the negative sentiment is 0.84, for the neutral sentiment is 0.67, and for the positive sentiment is 0.91.\n",
    "Recall: The recall for the negative sentiment is 0.78, for the neutral sentiment is 0.0, and for the positive sentiment is 0.99.\n",
    "F1-Score: The F1-score for the negative sentiment is 0.81, for the neutral sentiment is 0.0, and for the positive sentiment is 0.95."
   ]
  },
  {
   "cell_type": "code",
   "execution_count": 55,
   "metadata": {
    "execution": {
     "iopub.execute_input": "2023-07-07T16:49:17.641508Z",
     "iopub.status.busy": "2023-07-07T16:49:17.641074Z",
     "iopub.status.idle": "2023-07-07T16:49:47.468447Z",
     "shell.execute_reply": "2023-07-07T16:49:47.467207Z",
     "shell.execute_reply.started": "2023-07-07T16:49:17.641476Z"
    }
   },
   "outputs": [
    {
     "name": "stderr",
     "output_type": "stream",
     "text": [
      "C:\\Users\\tript\\anaconda3\\lib\\site-packages\\sklearn\\metrics\\_classification.py:1344: UndefinedMetricWarning: Precision and F-score are ill-defined and being set to 0.0 in labels with no predicted samples. Use `zero_division` parameter to control this behavior.\n",
      "  _warn_prf(average, modifier, msg_start, len(result))\n",
      "C:\\Users\\tript\\anaconda3\\lib\\site-packages\\sklearn\\metrics\\_classification.py:1344: UndefinedMetricWarning: Precision and F-score are ill-defined and being set to 0.0 in labels with no predicted samples. Use `zero_division` parameter to control this behavior.\n",
      "  _warn_prf(average, modifier, msg_start, len(result))\n"
     ]
    },
    {
     "name": "stdout",
     "output_type": "stream",
     "text": [
      "Accuracy:  0.9011782223085388\n",
      "Classification Report:\n",
      "               precision    recall  f1-score   support\n",
      "\n",
      "    negative       0.84      0.78      0.81      4734\n",
      "     neutral       0.00      0.00      0.00      1679\n",
      "    positive       0.91      0.99      0.95     24481\n",
      "\n",
      "    accuracy                           0.90     30894\n",
      "   macro avg       0.58      0.59      0.59     30894\n",
      "weighted avg       0.85      0.90      0.87     30894\n",
      "\n"
     ]
    },
    {
     "name": "stderr",
     "output_type": "stream",
     "text": [
      "C:\\Users\\tript\\anaconda3\\lib\\site-packages\\sklearn\\metrics\\_classification.py:1344: UndefinedMetricWarning: Precision and F-score are ill-defined and being set to 0.0 in labels with no predicted samples. Use `zero_division` parameter to control this behavior.\n",
      "  _warn_prf(average, modifier, msg_start, len(result))\n"
     ]
    }
   ],
   "source": [
    "from sklearn.ensemble import GradientBoostingClassifier\n",
    "\n",
    "# Split the data into training and testing sets\n",
    "X_train, X_test, y_train, y_test = train_test_split(df['Review'], df['Sentiment'], test_size=0.2, random_state=42)\n",
    "\n",
    "# Vectorize the text data\n",
    "vectorizer = CountVectorizer()\n",
    "X_train_vectorized = vectorizer.fit_transform(X_train)\n",
    "X_test_vectorized = vectorizer.transform(X_test)\n",
    "\n",
    "# Train a classification model (Gradient Boosting)\n",
    "model = GradientBoostingClassifier()\n",
    "model.fit(X_train_vectorized, y_train)\n",
    "\n",
    "# Make predictions on the test set\n",
    "y_pred = model.predict(X_test_vectorized)\n",
    "\n",
    "# Evaluate the model\n",
    "accuracy = accuracy_score(y_test, y_pred)\n",
    "report = classification_report(y_test, y_pred)\n",
    "\n",
    "# Print the evaluation metrics\n",
    "print(\"Accuracy: \", accuracy)\n",
    "print(\"Classification Report:\\n\", report)\n"
   ]
  },
  {
   "cell_type": "markdown",
   "metadata": {},
   "source": [
    "Accuracy: 0.9012\n",
    "Precision: The precision for the negative sentiment is 0.84, for the neutral sentiment is 0.0, and for the positive sentiment is 0.91.\n",
    "Recall: The recall for the negative sentiment is 0.78, for the neutral sentiment is 0.0, and for the positive sentiment is 0.99.\n",
    "F1-Score: The F1-score for the negative sentiment is 0.81, for the neutral sentiment is 0.0, and for the positive sentiment is 0.95."
   ]
  },
  {
   "cell_type": "code",
   "execution_count": 56,
   "metadata": {
    "execution": {
     "iopub.execute_input": "2023-07-07T17:19:57.285755Z",
     "iopub.status.busy": "2023-07-07T17:19:57.285252Z",
     "iopub.status.idle": "2023-07-07T17:19:57.294433Z",
     "shell.execute_reply": "2023-07-07T17:19:57.293386Z",
     "shell.execute_reply.started": "2023-07-07T17:19:57.285722Z"
    }
   },
   "outputs": [],
   "source": [
    "import re\n",
    "from nltk.stem import PorterStemmer\n",
    "import nltk\n",
    "\n",
    "stemmer = PorterStemmer()\n",
    "\n",
    "def get_stemmed_tokens(doc):\n",
    "    nltk.download('punkt') # Download the required nltk package 'punkt' for word tokenization\n",
    "    all_tokens = nltk.word_tokenize(doc)\n",
    "    clean_tokens = []\n",
    "    for each_token in all_tokens:\n",
    "        if re.search('[a-zA-Z]', each_token):\n",
    "            clean_tokens.append(each_token)\n",
    "    stemmed_tokens = [stemmer.stem(t) for t in clean_tokens]\n",
    "    return stemmed_tokens"
   ]
  },
  {
   "cell_type": "code",
   "execution_count": 57,
   "metadata": {
    "execution": {
     "iopub.execute_input": "2023-07-07T17:24:52.005837Z",
     "iopub.status.busy": "2023-07-07T17:24:52.005403Z",
     "iopub.status.idle": "2023-07-07T17:25:05.622062Z",
     "shell.execute_reply": "2023-07-07T17:25:05.620854Z",
     "shell.execute_reply.started": "2023-07-07T17:24:52.005807Z"
    }
   },
   "outputs": [],
   "source": [
    "from sklearn.feature_extraction.text import TfidfVectorizer\n",
    "from nltk.stem import PorterStemmer\n",
    "\n",
    "stemmer = PorterStemmer()\n",
    "\n",
    "def stemmed_words(doc):\n",
    "    return [stemmer.stem(w) for w in doc.split()]\n",
    "\n",
    "tfidf_vectorizer = TfidfVectorizer(analyzer=stemmed_words, max_features=10000)\n",
    "feature_vector = tfidf_vectorizer.fit_transform(df['Review'])\n",
    "data_features = feature_vector.toarray()\n",
    "features = tfidf_vectorizer.get_feature_names_out()"
   ]
  },
  {
   "cell_type": "code",
   "execution_count": 58,
   "metadata": {
    "execution": {
     "iopub.execute_input": "2023-07-07T17:25:25.320517Z",
     "iopub.status.busy": "2023-07-07T17:25:25.320081Z",
     "iopub.status.idle": "2023-07-07T17:25:48.478622Z",
     "shell.execute_reply": "2023-07-07T17:25:48.477329Z",
     "shell.execute_reply.started": "2023-07-07T17:25:25.320483Z"
    }
   },
   "outputs": [
    {
     "name": "stdout",
     "output_type": "stream",
     "text": [
      "Accuracy:  0.9011782223085388\n",
      "Classification Report:\n",
      "               precision    recall  f1-score   support\n",
      "\n",
      "    negative       0.84      0.78      0.81      4734\n",
      "     neutral       0.00      0.00      0.00      1679\n",
      "    positive       0.91      0.99      0.95     24481\n",
      "\n",
      "    accuracy                           0.90     30894\n",
      "   macro avg       0.58      0.59      0.59     30894\n",
      "weighted avg       0.85      0.90      0.87     30894\n",
      "\n"
     ]
    }
   ],
   "source": [
    "from sklearn.model_selection import train_test_split\n",
    "from sklearn.feature_extraction.text import CountVectorizer\n",
    "from sklearn.ensemble import RandomForestClassifier\n",
    "from sklearn.metrics import accuracy_score, classification_report\n",
    "\n",
    "# Split the data into training and testing sets\n",
    "X_train, X_test, y_train, y_test = train_test_split(df['Review'], df['Sentiment'], test_size=0.2, random_state=42)\n",
    "\n",
    "# Vectorize the text data\n",
    "vectorizer = CountVectorizer()\n",
    "X_train_vectorized = vectorizer.fit_transform(X_train)\n",
    "X_test_vectorized = vectorizer.transform(X_test)\n",
    "\n",
    "# Train a classification model (Random Forest)\n",
    "model = RandomForestClassifier()\n",
    "model.fit(X_train_vectorized, y_train)\n",
    "\n",
    "# Make predictions on the test set\n",
    "y_pred = model.predict(X_test_vectorized)\n",
    "\n",
    "# Evaluate the model\n",
    "accuracy = accuracy_score(y_test, y_pred)\n",
    "report = classification_report(y_test, y_pred)\n",
    "\n",
    "# Print the evaluation metrics\n",
    "print(\"Accuracy: \", accuracy)\n",
    "print(\"Classification Report:\\n\", report)\n"
   ]
  },
  {
   "cell_type": "markdown",
   "metadata": {},
   "source": [
    "These results indicate the performance of each model on sentiment classification. The accuracy values are consistent across all the classifiers. However, it is important to note that the models performed poorly in predicting the neutral sentiment, achieving an F1-score of 0.0 for this class. This suggests that the models might struggle to accurately classify neutral sentiments.\n",
    "\n",
    "Further analysis and experimentation may be required to improve the performance of the models on the neutral sentiment class. Additionally, considering other evaluation metrics and exploring alternative approaches could provide deeper insights into the models' effectiveness for sentiment analysis"
   ]
  },
  {
   "cell_type": "code",
   "execution_count": 62,
   "metadata": {},
   "outputs": [
    {
     "name": "stdout",
     "output_type": "stream",
     "text": [
      "{'neg': 0.0, 'neu': 1.0, 'pos': 0.0, 'compound': 0.0}\n"
     ]
    }
   ],
   "source": [
    "from vaderSentiment.vaderSentiment import SentimentIntensityAnalyzer\n",
    "model1 = SentimentIntensityAnalyzer()\n",
    "sentiment_scores = model1.polarity_scores(df)\n",
    "print(sentiment_scores)"
   ]
  },
  {
   "cell_type": "code",
   "execution_count": null,
   "metadata": {},
   "outputs": [],
   "source": []
  }
 ],
 "metadata": {
  "kernelspec": {
   "display_name": "Python 3 (ipykernel)",
   "language": "python",
   "name": "python3"
  },
  "language_info": {
   "codemirror_mode": {
    "name": "ipython",
    "version": 3
   },
   "file_extension": ".py",
   "mimetype": "text/x-python",
   "name": "python",
   "nbconvert_exporter": "python",
   "pygments_lexer": "ipython3",
   "version": "3.10.9"
  }
 },
 "nbformat": 4,
 "nbformat_minor": 4
}
