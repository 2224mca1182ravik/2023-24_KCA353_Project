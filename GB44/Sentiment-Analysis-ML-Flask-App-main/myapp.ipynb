{
 "cells": [
  {
   "cell_type": "code",
   "execution_count": null,
   "id": "0f8a0ea7",
   "metadata": {},
   "outputs": [
    {
     "name": "stdout",
     "output_type": "stream",
     "text": [
      " * Serving Flask app '__main__'\n",
      " * Debug mode: off\n"
     ]
    },
    {
     "name": "stderr",
     "output_type": "stream",
     "text": [
      "[nltk_data] Downloading package stopwords to\n",
      "[nltk_data]     C:\\Users\\tript\\AppData\\Roaming\\nltk_data...\n",
      "[nltk_data]   Package stopwords is already up-to-date!\n",
      "WARNING: This is a development server. Do not use it in a production deployment. Use a production WSGI server instead.\n",
      " * Running on http://127.0.0.1:5000\n",
      "Press CTRL+C to quit\n",
      "127.0.0.1 - - [20/Feb/2024 23:13:28] \"GET / HTTP/1.1\" 200 -\n",
      "127.0.0.1 - - [20/Feb/2024 23:13:28] \"GET /static/style.css HTTP/1.1\" 304 -\n",
      "127.0.0.1 - - [20/Feb/2024 23:13:28] \"GET /_images/icon_sprites_50.png HTTP/1.1\" 404 -\n",
      "127.0.0.1 - - [20/Feb/2024 23:13:28] \"GET /favicon.ico HTTP/1.1\" 404 -\n",
      "127.0.0.1 - - [20/Feb/2024 23:28:18] \"GET / HTTP/1.1\" 200 -\n",
      "127.0.0.1 - - [20/Feb/2024 23:28:18] \"GET /static/style.css HTTP/1.1\" 304 -\n",
      "127.0.0.1 - - [20/Feb/2024 23:28:18] \"GET /_images/icon_sprites_50.png HTTP/1.1\" 404 -\n",
      "127.0.0.1 - - [20/Feb/2024 23:28:36] \"POST / HTTP/1.1\" 200 -\n",
      "127.0.0.1 - - [20/Feb/2024 23:28:36] \"GET /static/style.css HTTP/1.1\" 304 -\n"
     ]
    }
   ],
   "source": [
    "from flask import Flask, request, render_template\n",
    "from sklearn.feature_extraction.text import TfidfVectorizer\n",
    "from sklearn.metrics.pairwise import cosine_similarity\n",
    "from vaderSentiment.vaderSentiment import SentimentIntensityAnalyzer\n",
    "import nltk\n",
    "from string import punctuation\n",
    "import re\n",
    "from nltk.corpus import stopwords\n",
    "\n",
    "nltk.download('stopwords')\n",
    "\n",
    "set(stopwords.words('english'))\n",
    "\n",
    "app = Flask(__name__)\n",
    "\n",
    "@app.route('/')\n",
    "def my_form():\n",
    "    return render_template('form.html')\n",
    "\n",
    "@app.route('/', methods=['POST'])\n",
    "def my_form_post():\n",
    "    stop_words = stopwords.words('english')\n",
    "    \n",
    "    #convert to lowercase\n",
    "    text1 = request.form['text1'].lower()\n",
    "    \n",
    "    text_final = ''.join(c for c in text1 if not c.isdigit())\n",
    "    \n",
    "    #remove punctuations\n",
    "    #text3 = ''.join(c for c in text2 if c not in punctuation)\n",
    "        \n",
    "    #remove stopwords    \n",
    "    processed_doc1 = ' '.join([word for word in text_final.split() if word not in stop_words])\n",
    "\n",
    "    sa = SentimentIntensityAnalyzer()\n",
    "    dd = sa.polarity_scores(text=processed_doc1)\n",
    "    compound = round((1 + dd['compound'])/2, 2)\n",
    "\n",
    "    return render_template('form.html', final=compound, text1=text_final,text2=dd['pos'],text5=dd['neg'],text4=compound,text3=dd['neu'])\n",
    "\n",
    "if __name__ == \"__main__\":\n",
    "    app.run()\n"
   ]
  },
  {
   "cell_type": "code",
   "execution_count": null,
   "id": "c8eb24bd",
   "metadata": {},
   "outputs": [],
   "source": []
  }
 ],
 "metadata": {
  "kernelspec": {
   "display_name": "Python 3 (ipykernel)",
   "language": "python",
   "name": "python3"
  },
  "language_info": {
   "codemirror_mode": {
    "name": "ipython",
    "version": 3
   },
   "file_extension": ".py",
   "mimetype": "text/x-python",
   "name": "python",
   "nbconvert_exporter": "python",
   "pygments_lexer": "ipython3",
   "version": "3.10.9"
  }
 },
 "nbformat": 4,
 "nbformat_minor": 5
}
